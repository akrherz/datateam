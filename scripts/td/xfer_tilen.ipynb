{
 "cells": [
  {
   "cell_type": "code",
   "execution_count": 1,
   "metadata": {
    "collapsed": true
   },
   "outputs": [],
   "source": [
    "import pyiem.cscap_utils as util\n",
    "import gdata.spreadsheets.data\n",
    "import pandas as pd\n",
    "import datetime"
   ]
  },
  {
   "cell_type": "code",
   "execution_count": 2,
   "metadata": {
    "collapsed": false
   },
   "outputs": [],
   "source": [
    "spr_client = util.get_spreadsheet_client(util.get_config())\n",
    "\n",
    "inspreadsheet = util.Spreadsheet(spr_client, '1tCg0mjZ6LDvS4DVsxDu9NPnvjVo8qPrjnc8_S_kdYlw')\n",
    "outspreadsheet = util.Spreadsheet(spr_client, '1E7TE4-KmMbcLqKtntB3BsZut__1aF3p3DqFSfwH37rc')\n",
    "\n",
    "rows = []\n",
    "for plotid in inspreadsheet.worksheets:\n",
    "    lf = inspreadsheet.worksheets[plotid].get_list_feed()\n",
    "    for entry in lf.entry:\n",
    "        rows.append(entry.to_dict())\n",
    "\n",
    "df = pd.DataFrame(rows)"
   ]
  },
  {
   "cell_type": "code",
   "execution_count": 3,
   "metadata": {
    "collapsed": false
   },
   "outputs": [],
   "source": [
    "df = df[df['date'] != 'Date'].copy()"
   ]
  },
  {
   "cell_type": "code",
   "execution_count": 4,
   "metadata": {
    "collapsed": false
   },
   "outputs": [],
   "source": [
    "df['date'] = df['date'].apply(lambda x: datetime.datetime.strptime(x.strip(), '%m/%d/%Y').date())"
   ]
  },
  {
   "cell_type": "code",
   "execution_count": 5,
   "metadata": {
    "collapsed": false
   },
   "outputs": [
    {
     "data": {
      "text/html": [
       "<div>\n",
       "<table border=\"1\" class=\"dataframe\">\n",
       "  <thead>\n",
       "    <tr style=\"text-align: right;\">\n",
       "      <th></th>\n",
       "      <th>date</th>\n",
       "      <th>plotid</th>\n",
       "      <th>sampletype</th>\n",
       "      <th>wat2</th>\n",
       "      <th>wat8</th>\n",
       "      <th>wat9</th>\n",
       "    </tr>\n",
       "  </thead>\n",
       "  <tbody>\n",
       "    <tr>\n",
       "      <th>204</th>\n",
       "      <td>2014-12-10</td>\n",
       "      <td>SW</td>\n",
       "      <td>M</td>\n",
       "      <td>6.093</td>\n",
       "      <td>0.189</td>\n",
       "      <td>&lt;0.02</td>\n",
       "    </tr>\n",
       "    <tr>\n",
       "      <th>644</th>\n",
       "      <td>2014-12-10</td>\n",
       "      <td>NE</td>\n",
       "      <td>M</td>\n",
       "      <td>6.439</td>\n",
       "      <td>0.195</td>\n",
       "      <td>&lt;0.02</td>\n",
       "    </tr>\n",
       "  </tbody>\n",
       "</table>\n",
       "</div>"
      ],
      "text/plain": [
       "           date plotid sampletype   wat2   wat8   wat9\n",
       "204  2014-12-10     SW          M  6.093  0.189  <0.02\n",
       "644  2014-12-10     NE          M  6.439  0.195  <0.02"
      ]
     },
     "execution_count": 5,
     "metadata": {},
     "output_type": "execute_result"
    }
   ],
   "source": [
    "df[df['date'] == datetime.date(2014, 12, 10)]"
   ]
  },
  {
   "cell_type": "code",
   "execution_count": 38,
   "metadata": {
    "collapsed": false
   },
   "outputs": [
    {
     "name": "stdout",
     "output_type": "stream",
     "text": [
      "{'sewat8tiletotalpconcentration': '(mg N L-1)', 'swwat20tilenitrate-nloss': '(kg ha-1)', 'newat2tilenitrate-nconcentration': '(mg N L-1)', 'newat20tilenitrate-nloss': '(kg ha-1)', 'newat8tiletotalpconcentration': '(mg N L-1)', 'nwwat8tiletotalpconcentration': '(mg N L-1)', 'nwwat20tilenitrate-nloss': '(kg ha-1)', 'sewat20tilenitrate-nloss': '(kg ha-1)', 'swwat8tiletotalpconcentration': '(mg N L-1)', 'newat9tilereactivepconcentration': '(mg N L-1)', 'sewat9tilereactivepconcentration': '(mg N L-1)', 'swwat2tilenitrate-nconcentration': '(mg N L-1)', 'nwwat2tilenitrate-nconcentration': '(mg N L-1)', 'sewat2tilenitrate-nconcentration': '(mg N L-1)', 'date': 'MM/DD/YYYY', 'nwwat9tilereactivepconcentration': '(mg N L-1)', 'swwat9tilereactivepconcentration': '(mg N L-1)'}\n"
     ]
    }
   ],
   "source": [
    "lf = outspreadsheet.worksheets['2010'].get_list_feed()\n",
    "for entry in lf.entry:\n",
    "    print entry.to_dict()"
   ]
  },
  {
   "cell_type": "code",
   "execution_count": 5,
   "metadata": {
    "collapsed": false
   },
   "outputs": [],
   "source": [
    "def doo(val):\n",
    "    if pd.isnull(val):\n",
    "        return 'did not collect'\n",
    "    return str(val)\n",
    "\n",
    "for year in range(2010, 2016):\n",
    "    frames = {}\n",
    "    for plotid in ['NW', 'SW', 'SE', 'NE']:\n",
    "        df2 = df[(df['plotid'] == plotid)&(df['date'] < datetime.date(year +1, 1, 1))&\n",
    "                (df['date'] >= datetime.date(year, 1, 1))].copy()\n",
    "        frames[plotid] = df2.set_index('date')\n",
    "        lv = None\n",
    "        for i in frames[plotid].index.values:\n",
    "            if i == lv:\n",
    "                print i, plotid\n",
    "            lv = i\n",
    "    \n",
    "    df3 = pd.DataFrame(dict(nw_wat2=frames['NW']['wat2'],\n",
    "                            nw_wat8=frames['NW']['wat8'],\n",
    "                            nw_wat9=frames['NW']['wat9'],\n",
    "                            sw_wat2=frames['SW']['wat2'],\n",
    "                            sw_wat8=frames['SW']['wat8'],\n",
    "                            sw_wat9=frames['SW']['wat9'],\n",
    "                            se_wat2=frames['SE']['wat2'],\n",
    "                            se_wat8=frames['SE']['wat8'],\n",
    "                            se_wat9=frames['SE']['wat9'],\n",
    "                            ne_wat2=frames['NE']['wat2'],\n",
    "                            ne_wat8=frames['NE']['wat8'],\n",
    "                            ne_wat9=frames['NE']['wat9']))\n",
    "    for i, row in df3.iterrows():\n",
    "        entry = gdata.spreadsheets.data.ListEntry()\n",
    "        entry.set_value('date', i.strftime('%Y-%m-%d'))\n",
    "        entry.set_value('nwwat2tilenitrate-nconcentration', doo(row['nw_wat2']))\n",
    "        entry.set_value('nwwat8tiletotalpconcentration', doo(row['nw_wat8']))\n",
    "        entry.set_value('nwwat9tilereactivepconcentration', doo(row['nw_wat9']))\n",
    "        entry.set_value('swwat2tilenitrate-nconcentration', doo(row['sw_wat2']))\n",
    "        entry.set_value('swwat8tiletotalpconcentration', doo(row['sw_wat8']))\n",
    "        entry.set_value('swwat9tilereactivepconcentration', doo(row['sw_wat9']))\n",
    "        entry.set_value('sewat2tilenitrate-nconcentration', doo(row['se_wat2']))\n",
    "        entry.set_value('sewat8tiletotalpconcentration', doo(row['se_wat8']))\n",
    "        entry.set_value('sewat9tilereactivepconcentration', doo(row['se_wat9']))\n",
    "        entry.set_value('newat2tilenitrate-nconcentration', doo(row['ne_wat2']))\n",
    "        entry.set_value('newat8tiletotalpconcentration', doo(row['ne_wat8']))\n",
    "        entry.set_value('newat9tilereactivepconcentration', doo(row['ne_wat9']))\n",
    "        spr_client.add_list_entry(entry, outspreadsheet.id,\n",
    "                                  outspreadsheet.worksheets[str(year)].id)"
   ]
  },
  {
   "cell_type": "code",
   "execution_count": null,
   "metadata": {
    "collapsed": true
   },
   "outputs": [],
   "source": []
  },
  {
   "cell_type": "code",
   "execution_count": null,
   "metadata": {
    "collapsed": true
   },
   "outputs": [],
   "source": []
  }
 ],
 "metadata": {
  "kernelspec": {
   "display_name": "Python 2",
   "language": "python",
   "name": "python2"
  },
  "language_info": {
   "codemirror_mode": {
    "name": "ipython",
    "version": 2
   },
   "file_extension": ".py",
   "mimetype": "text/x-python",
   "name": "python",
   "nbconvert_exporter": "python",
   "pygments_lexer": "ipython2",
   "version": "2.7.5"
  }
 },
 "nbformat": 4,
 "nbformat_minor": 0
}
